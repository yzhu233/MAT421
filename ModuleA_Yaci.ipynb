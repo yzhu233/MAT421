{
  "nbformat": 4,
  "nbformat_minor": 0,
  "metadata": {
    "colab": {
      "provenance": [],
      "authorship_tag": "ABX9TyM/ff2uDALhOTLeXVYgr47G",
      "include_colab_link": true
    },
    "kernelspec": {
      "name": "python3",
      "display_name": "Python 3"
    },
    "language_info": {
      "name": "python"
    }
  },
  "cells": [
    {
      "cell_type": "markdown",
      "metadata": {
        "id": "view-in-github",
        "colab_type": "text"
      },
      "source": [
        "<a href=\"https://colab.research.google.com/github/yzhu233/MAT421/blob/main/ModuleA_Yaci.ipynb\" target=\"_parent\"><img src=\"https://colab.research.google.com/assets/colab-badge.svg\" alt=\"Open In Colab\"/></a>"
      ]
    },
    {
      "cell_type": "markdown",
      "source": [
        "**ModuleA Chapter9**\n",
        "\n",
        "**9.1 Base N and Binary**\n",
        "\n",
        "for base 2 (binary)\n",
        "\n",
        "\n",
        "\n",
        "\n",
        "\n"
      ],
      "metadata": {
        "id": "418l_3MUH6c-"
      }
    },
    {
      "cell_type": "code",
      "source": [
        "from re import X\n",
        "binary = 0b1011\n",
        "\n",
        "def convert_base2_decimal(b):\n",
        "  print(\"0b1011 convert to decimal is \",b)\n",
        "\n",
        "convert_base2_decimal(binary)\n",
        "\n",
        "decimal = 1*pow(2,3)+0*pow(2,2)+1*pow(2,1)+1*1*pow(2,0)\n",
        "\n",
        "print(\"calculation base 2: 11 = 1*2^3 + 0*2^2 + 1*2^1 + 1*2^0 =\",decimal)\n"
      ],
      "metadata": {
        "colab": {
          "base_uri": "https://localhost:8080/"
        },
        "id": "_5lorBryxy7T",
        "outputId": "15133ac7-a141-4e7f-c2dc-c2db834255b3"
      },
      "execution_count": 41,
      "outputs": [
        {
          "output_type": "stream",
          "name": "stdout",
          "text": [
            "0b1011 convert to decimal is  11\n",
            "calculation base 2: 11 = 1*2^3 + 0*2^2 + 1*2^1 + 1*2^0 = 11\n"
          ]
        }
      ]
    },
    {
      "cell_type": "markdown",
      "source": [
        "for base 8 (otc)"
      ],
      "metadata": {
        "id": "qo3ImMTD3hBx"
      }
    },
    {
      "cell_type": "code",
      "source": [
        "from re import X\n",
        "number = 0o10\n",
        "def convert_base8_decimal(number):\n",
        "  \n",
        "  print(\"0o10 convert to decimal is \",number)\n",
        "\n",
        "convert_base8_decimal(number)\n",
        "\n",
        "decimal = 1*pow(8,1)+0*1*pow(8,0)\n",
        "\n",
        "print(\"calculation base 2: 8 =  1*8^1 + 1*8^0 =\",decimal)"
      ],
      "metadata": {
        "colab": {
          "base_uri": "https://localhost:8080/"
        },
        "id": "Yvy_zm_73lA9",
        "outputId": "c0a41681-16d0-4117-a044-219b3f8fcddd"
      },
      "execution_count": 42,
      "outputs": [
        {
          "output_type": "stream",
          "name": "stdout",
          "text": [
            "0o10 convert to decimal is  8\n",
            "calculation base 2: 8 =  1*8^1 + 1*8^0 = 8\n"
          ]
        }
      ]
    },
    {
      "cell_type": "markdown",
      "source": [
        "for base 16 (hex)"
      ],
      "metadata": {
        "id": "z6JCMJX_8Sne"
      }
    },
    {
      "cell_type": "code",
      "source": [
        "from re import X\n",
        "number = 0x20\n",
        "def convert_base16_decimal(number):\n",
        "  \n",
        "  print(\"0x20 convert to decimal is \",number)\n",
        "\n",
        "convert_base16_decimal(number)\n",
        "\n",
        "decimal = 2*pow(16,1)+0*1*pow(16,0)\n",
        "\n",
        "print(\"calculation base 2: 32 =  2*16^1 + 1*16^0 =\",decimal)"
      ],
      "metadata": {
        "colab": {
          "base_uri": "https://localhost:8080/"
        },
        "id": "KqBTPS688V1Y",
        "outputId": "f7895bb9-966e-48b5-8d70-86fa6b3d7afd"
      },
      "execution_count": 44,
      "outputs": [
        {
          "output_type": "stream",
          "name": "stdout",
          "text": [
            "0x20 convert to decimal is  32\n",
            "calculation base 2: 32 =  2*16^1 + 1*16^0 = 32\n"
          ]
        }
      ]
    },
    {
      "cell_type": "markdown",
      "source": [
        "Addition for base 2:"
      ],
      "metadata": {
        "id": "ORVdn6Pf93yf"
      }
    },
    {
      "cell_type": "code",
      "source": [
        "x=6 \n",
        "y=5\n",
        "print(\"x in binary\",bin(x))\n",
        "print(\"y in binary\",bin(y))\n",
        "z = x + y \n",
        "print(bin(z))"
      ],
      "metadata": {
        "colab": {
          "base_uri": "https://localhost:8080/"
        },
        "id": "lyqWLhap97Zv",
        "outputId": "fc20d438-1c63-4dd9-8208-1380b065de84"
      },
      "execution_count": 48,
      "outputs": [
        {
          "output_type": "stream",
          "name": "stdout",
          "text": [
            "x in binary 0b110\n",
            "y in binary 0b101\n",
            "0b1011\n"
          ]
        }
      ]
    },
    {
      "cell_type": "markdown",
      "source": [
        "Multiplication for base 2: "
      ],
      "metadata": {
        "id": "DpX3vtlI976D"
      }
    },
    {
      "cell_type": "code",
      "source": [
        "x=6 \n",
        "y=5\n",
        "print(\"x in binary\",bin(x))\n",
        "print(\"y in binary\",bin(y))\n",
        "z = x * y \n",
        "print(bin(z))"
      ],
      "metadata": {
        "colab": {
          "base_uri": "https://localhost:8080/"
        },
        "id": "n0g7WGGk-EdO",
        "outputId": "20c266b1-2325-4c9d-e491-4fdd1e42faaa"
      },
      "execution_count": 49,
      "outputs": [
        {
          "output_type": "stream",
          "name": "stdout",
          "text": [
            "x in binary 0b110\n",
            "y in binary 0b101\n",
            "0b11110\n"
          ]
        }
      ]
    },
    {
      "cell_type": "markdown",
      "source": [
        "**9.2 Floating Point Numbers**\n",
        "\n",
        "(most examples are from transcript)\n",
        "\n",
        "\"Instead of utilizing each bit as the coefficient of a power of 2, floats allocate bits to three different parts: the sign indicator, s, which says whether a number is positive or negative; characteristic or exponent, e, which is the power of 2; and the fraction, f, which is the coefficient of the exponent.\""
      ],
      "metadata": {
        "id": "BqSZuLMu82oK"
      }
    },
    {
      "cell_type": "code",
      "source": [
        "import sys\n",
        "sys.float_info\n",
        "\n"
      ],
      "metadata": {
        "colab": {
          "base_uri": "https://localhost:8080/"
        },
        "id": "ke3g8gLn9uiJ",
        "outputId": "a19065d5-5d1c-4136-ee3e-5d6096a467e0"
      },
      "execution_count": 56,
      "outputs": [
        {
          "output_type": "execute_result",
          "data": {
            "text/plain": [
              "sys.float_info(max=1.7976931348623157e+308, max_exp=1024, max_10_exp=308, min=2.2250738585072014e-308, min_exp=-1021, min_10_exp=-307, dig=15, mant_dig=53, epsilon=2.220446049250313e-16, radix=2, rounds=1)"
            ]
          },
          "metadata": {},
          "execution_count": 56
        }
      ]
    },
    {
      "cell_type": "markdown",
      "source": [
        "n=(−1)(sign)2^(base n−1023)*(1+f)"
      ],
      "metadata": {
        "id": "E3U3_eqCCVRb"
      }
    },
    {
      "cell_type": "code",
      "source": [
        "import numpy as np\n",
        "np.spacing(2e9)"
      ],
      "metadata": {
        "colab": {
          "base_uri": "https://localhost:8080/"
        },
        "id": "Lhct64eKC6aI",
        "outputId": "e8fda885-457e-4fa1-fc83-e32629274466"
      },
      "execution_count": 71,
      "outputs": [
        {
          "output_type": "execute_result",
          "data": {
            "text/plain": [
              "2.384185791015625e-07"
            ]
          },
          "metadata": {},
          "execution_count": 71
        }
      ]
    },
    {
      "cell_type": "code",
      "source": [
        "2e9 == (2e9 + np.spacing(2e9)/3)"
      ],
      "metadata": {
        "colab": {
          "base_uri": "https://localhost:8080/"
        },
        "id": "KeO8ePAGDBwJ",
        "outputId": "67c168ee-2ef0-4cf4-e776-49d8eddfab15"
      },
      "execution_count": 70,
      "outputs": [
        {
          "output_type": "execute_result",
          "data": {
            "text/plain": [
              "True"
            ]
          },
          "metadata": {},
          "execution_count": 70
        }
      ]
    },
    {
      "cell_type": "markdown",
      "source": [
        "**9.3 Round-off Errors**\n",
        "\n",
        "(most examples are from transcript)\n",
        "\n",
        "The difference between an approximation of a number used in computation and its correct (true) value is called round-off error\n",
        "\n",
        "Representation error: The most common form round-off error is the representation error in the floating point numbers.\n",
        "\n",
        "Round-off error by floating-point arithmetic:"
      ],
      "metadata": {
        "id": "myDVT1-QDPC0"
      }
    },
    {
      "cell_type": "code",
      "source": [
        "5.9 - 5.845 == 0.055"
      ],
      "metadata": {
        "colab": {
          "base_uri": "https://localhost:8080/"
        },
        "id": "fsZxc98cDnj1",
        "outputId": "750aca0f-a599-4104-fa8d-648a9319798d"
      },
      "execution_count": 69,
      "outputs": [
        {
          "output_type": "execute_result",
          "data": {
            "text/plain": [
              "False"
            ]
          },
          "metadata": {},
          "execution_count": 69
        }
      ]
    },
    {
      "cell_type": "code",
      "source": [
        "5.9 - 5.845"
      ],
      "metadata": {
        "colab": {
          "base_uri": "https://localhost:8080/"
        },
        "id": "AkFNNqBYD4DB",
        "outputId": "e1dd3660-e2cd-46c7-ae9a-1dc9d5b97795"
      },
      "execution_count": 68,
      "outputs": [
        {
          "output_type": "execute_result",
          "data": {
            "text/plain": [
              "0.055000000000000604"
            ]
          },
          "metadata": {},
          "execution_count": 68
        }
      ]
    },
    {
      "cell_type": "code",
      "source": [
        "0.1 + 0.2 + 0.3 == 0.6"
      ],
      "metadata": {
        "colab": {
          "base_uri": "https://localhost:8080/"
        },
        "id": "UzPvvSdRD7NE",
        "outputId": "444fa5aa-bbce-468c-8560-0317cd8bfece"
      },
      "execution_count": 63,
      "outputs": [
        {
          "output_type": "execute_result",
          "data": {
            "text/plain": [
              "False"
            ]
          },
          "metadata": {},
          "execution_count": 63
        }
      ]
    },
    {
      "cell_type": "code",
      "source": [
        "round(0.1 + 0.2 + 0.3, 5)  == round(0.6, 5)"
      ],
      "metadata": {
        "colab": {
          "base_uri": "https://localhost:8080/"
        },
        "id": "ugqaMxOmEC1f",
        "outputId": "cfbfc265-f197-40d6-a65d-cacc8a897f94"
      },
      "execution_count": 64,
      "outputs": [
        {
          "output_type": "execute_result",
          "data": {
            "text/plain": [
              "True"
            ]
          },
          "metadata": {},
          "execution_count": 64
        }
      ]
    },
    {
      "cell_type": "markdown",
      "source": [
        "Accumulation of round-off error : When we are doing a sequence of calculations on an initial input with round-off error due to inexact representation, the errors can be magnified or accumulated. "
      ],
      "metadata": {
        "id": "lmT4c4WzEOC0"
      }
    },
    {
      "cell_type": "code",
      "source": [
        "1 + 1/3 - 1/3"
      ],
      "metadata": {
        "colab": {
          "base_uri": "https://localhost:8080/"
        },
        "id": "SiLn9KtFEaLw",
        "outputId": "c9b4da50-e425-4362-b317-0e5d50dab978"
      },
      "execution_count": 76,
      "outputs": [
        {
          "output_type": "execute_result",
          "data": {
            "text/plain": [
              "1.0"
            ]
          },
          "metadata": {},
          "execution_count": 76
        }
      ]
    },
    {
      "cell_type": "code",
      "source": [
        "def add_and_subtract(iterations):\n",
        "    result = 1\n",
        "    \n",
        "    for i in range(iterations):\n",
        "        result += 1/3\n",
        "\n",
        "    for i in range(iterations):\n",
        "        result -= 1/3\n",
        "    return result"
      ],
      "metadata": {
        "id": "2lneP20mEeNO"
      },
      "execution_count": 75,
      "outputs": []
    },
    {
      "cell_type": "code",
      "source": [
        "# If we do this 100 times\n",
        "add_and_subtract(100)"
      ],
      "metadata": {
        "colab": {
          "base_uri": "https://localhost:8080/"
        },
        "id": "m6pb_4PcFBWm",
        "outputId": "fe80837d-3b12-49fb-c6e0-2c39d77ed3df"
      },
      "execution_count": 74,
      "outputs": [
        {
          "output_type": "execute_result",
          "data": {
            "text/plain": [
              "1.0000000000000002"
            ]
          },
          "metadata": {},
          "execution_count": 74
        }
      ]
    },
    {
      "cell_type": "code",
      "source": [
        "# If we do this 1000 times\n",
        "add_and_subtract(1000)"
      ],
      "metadata": {
        "colab": {
          "base_uri": "https://localhost:8080/"
        },
        "id": "E_iiHFnBFEcV",
        "outputId": "d4561a0c-606b-462d-8743-72673f4dd251"
      },
      "execution_count": 73,
      "outputs": [
        {
          "output_type": "execute_result",
          "data": {
            "text/plain": [
              "1.0000000000000064"
            ]
          },
          "metadata": {},
          "execution_count": 73
        }
      ]
    },
    {
      "cell_type": "code",
      "source": [
        "# If we do this 10000 times\n",
        "add_and_subtract(10000)"
      ],
      "metadata": {
        "colab": {
          "base_uri": "https://localhost:8080/"
        },
        "id": "-14ZgHRhFGTB",
        "outputId": "db01da43-9291-463e-e7ab-bd36290488ad"
      },
      "execution_count": 72,
      "outputs": [
        {
          "output_type": "execute_result",
          "data": {
            "text/plain": [
              "1.0000000000001166"
            ]
          },
          "metadata": {},
          "execution_count": 72
        }
      ]
    }
  ]
}